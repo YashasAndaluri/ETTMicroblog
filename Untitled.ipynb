{
 "cells": [
  {
   "cell_type": "code",
   "execution_count": 364,
   "metadata": {},
   "outputs": [],
   "source": [
    "import numpy as np\n",
    "import pandas as pd\n",
    "import matplotlib.pyplot as plt\n",
    "%matplotlib inline \n",
    "from pandas import concat\n"
   ]
  },
  {
   "cell_type": "code",
   "execution_count": 376,
   "metadata": {},
   "outputs": [],
   "source": [
    "zoom = []\n",
    "j = 0\n",
    "concatcsv = []\n",
    "for i in range(252,491):\n",
    "    test = pd.read_csv(str(i)+'.csv', delimiter = ';',encoding =\"utf-8\")\n",
    "    j = j+test.shape[0]\n",
    "    test = test.drop(columns = ['username','retweets','favorites','geo','mentions','hashtags','permalink'])\n",
    "    zoom.append(test)\n",
    "    \n"
   ]
  },
  {
   "cell_type": "code",
   "execution_count": 377,
   "metadata": {},
   "outputs": [
    {
     "data": {
      "text/plain": [
       "(103299, 4)"
      ]
     },
     "execution_count": 377,
     "metadata": {},
     "output_type": "execute_result"
    }
   ],
   "source": [
    "zoomfinal = pd.concat(zoom)\n",
    "zoomfinal.drop_duplicates(subset =\"id\", \n",
    "                     keep = 'first', inplace = True) \n",
    "zoomfinal['is_duplicated'] = zoomfinal.duplicated(['id'])\n",
    "zoomfinal['is_duplicated'].sum()\n",
    "zoomfinal.shape"
   ]
  },
  {
   "cell_type": "code",
   "execution_count": 378,
   "metadata": {},
   "outputs": [
    {
     "data": {
      "text/plain": [
       "0"
      ]
     },
     "execution_count": 378,
     "metadata": {},
     "output_type": "execute_result"
    }
   ],
   "source": [
    "\n",
    "zoomfinal.drop_duplicates(subset =\"id\", \n",
    "                   keep = 'first', inplace = True) \n",
    "zoomfinal['is_duplicated'] = zoomfinal.duplicated(['id'])\n",
    "zoomfinal['is_duplicated'].sum()"
   ]
  },
  {
   "cell_type": "code",
   "execution_count": 379,
   "metadata": {},
   "outputs": [],
   "source": [
    "zoomfinal\n",
    "zoomfinal.sort_values(\"date\", axis = 0, ascending = True, \n",
    "                 inplace = True, na_position ='last') \n"
   ]
  },
  {
   "cell_type": "code",
   "execution_count": 380,
   "metadata": {},
   "outputs": [],
   "source": [
    "zoomfinal = zoomfinal.drop(columns = ['is_duplicated'])\n",
    "zoomfinal.to_csv(r'tweetfiles.txt', header=None, index=None, sep=' ', mode='a')\n",
    "#zoomfinal.savetxt(r'zoomfinal.txt', zoomfinal.values, fmt='%d')"
   ]
  },
  {
   "cell_type": "code",
   "execution_count": 381,
   "metadata": {
    "scrolled": false
   },
   "outputs": [],
   "source": [
    "lines_per_file = 20000\n",
    "smallfile = None\n",
    "with open('tweetfiles.txt','r',encoding=\"utf-8\",errors='ignore') as bigfile:\n",
    "    for lineno, line in enumerate(bigfile):\n",
    "       # print(lineno)\n",
    "       \n",
    "        if lineno % lines_per_file == 0:\n",
    "            if smallfile:\n",
    "                smallfile.close()\n",
    "            small_filename = 'small_file_{}.txt'.format(lineno + lines_per_file)\n",
    "            smallfile = open(small_filename, \"w\",encoding='utf-8',errors='ignore')\n",
    "        smallfile.write(line)\n",
    "    if smallfile:\n",
    "        smallfile.close()"
   ]
  },
  {
   "cell_type": "code",
   "execution_count": null,
   "metadata": {},
   "outputs": [],
   "source": []
  }
 ],
 "metadata": {
  "kernelspec": {
   "display_name": "Python 3",
   "language": "python",
   "name": "python3"
  },
  "language_info": {
   "codemirror_mode": {
    "name": "ipython",
    "version": 3
   },
   "file_extension": ".py",
   "mimetype": "text/x-python",
   "name": "python",
   "nbconvert_exporter": "python",
   "pygments_lexer": "ipython3",
   "version": "3.6.5"
  }
 },
 "nbformat": 4,
 "nbformat_minor": 2
}
